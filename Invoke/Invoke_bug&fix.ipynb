{
 "cells": [
  {
   "cell_type": "markdown",
   "metadata": {},
   "source": [
    "### 已知BUG及其解决方法"
   ]
  },
  {
   "cell_type": "markdown",
   "metadata": {},
   "source": [
    "sdxl模型无法直接使用,需要在模型管理处进行手动配置。\n",
    "\n",
    "错误原因： 没有正确识别sdxl模型\n",
    "\n",
    "#解决方法：\n",
    "模型管理器 - 选中sdxl模型\n",
    "基地模型设置为xl\n",
    "config文件选中xl_base.yaml\n",
    "\n",
    "\n",
    "\n",
    "<a href=\"https://ibb.co/kM88H6V\"><img src=\"https://i.ibb.co/8X55K4n/QQ-20231109180319.png\" alt=\"QQ-20231109180319\" border=\"0\"></a>"
   ]
  },
  {
   "cell_type": "code",
   "execution_count": null,
   "metadata": {},
   "outputs": [],
   "source": [
    "  File \"/usr/local/lib/python3.10/dist-packages/diffusers/schedulers/scheduling_dpmsolver_singlestep.py\", line 669, in step\n",
    "    step_index = step_index.item()\n",
    "RuntimeError: a Tensor with 2 elements cannot be converted to Scalar\n",
    "\n",
    "#错误原因： 使用 DPM++ 2S Karras 采样器时，需要设置 step_index 为 40以下，否则会报错。\n",
    "\n",
    "#解决方法： 将采样步数设置为 40以下即可。\n",
    "https://github.com/invoke-ai/InvokeAI/issues/4924"
   ]
  },
  {
   "cell_type": "code",
   "execution_count": null,
   "metadata": {},
   "outputs": [],
   "source": [
    "v3.6.0 删除了前端构建.\n",
    "https://github.com/invoke-ai/InvokeAI/issues/5269\n",
    "\n",
    "'''\n",
    "@迷幻，谢谢解释！大多数情况下我在Colab中使用InvokeAi。不幸的是，现在我将不得不花更多的时间来安装和构建前端。但是我完全支持在主分支中不构建前端的决定:）\n",
    "\n",
    "我成功构建了前端，并为使用Colab或Ubuntu的用户制作了一个命令列表:\n",
    "'''\n",
    "\n",
    "%cd /content\n",
    "!curl -SLO https://deb.nodesource.com/nsolid_setup_deb.sh\n",
    "!sudo chmod 500 nsolid_setup_deb.sh\n",
    "!./nsolid_setup_deb.sh 18\n",
    "!apt install nodejs -y\n",
    "!apt install npm\n",
    "!npm install -g pnpm\n",
    "\n",
    "!rm /content/nsolid_setup_deb.sh\n",
    "%cd /content/IAekovnI/invokeai/frontend/web\n",
    "!pnpm i --frozen-lockfile\n",
    "!pnpm build\n",
    "\n",
    "# !pip install --use-pep517 --upgrade  --force-reinstall InvokeAI==v3.6.0"
   ]
  },
  {
   "cell_type": "code",
   "execution_count": null,
   "metadata": {},
   "outputs": [],
   "source": [
    "v3.6.0 bug\n",
    "使用sdxl会断开连接"
   ]
  },
  {
   "cell_type": "code",
   "execution_count": null,
   "metadata": {},
   "outputs": [],
   "source": [
    "def build_ui(branchname):\n",
    "    if branchname == \"v3.5.1\" or branchname == \"v3.4.0post2\" or branchname == \"v3.3.0post3\":\n",
    "        print(\"当前使用的版本为：\", branchname) \n",
    "    else:\n",
    "        #%cd /content\n",
    "        !curl -SLO https://deb.nodesource.com/nsolid_setup_deb.sh\n",
    "        !sudo chmod 500 nsolid_setup_deb.sh\n",
    "        !./nsolid_setup_deb.sh 18\n",
    "        !apt install nodejs -y\n",
    "        !apt install npm -y\n",
    "        !npm install -g pnpm\n",
    "\n",
    "        !rm ./nsolid_setup_deb.sh\n",
    "        %cd ./invokeai/frontend/web\n",
    "        !pnpm i --frozen-lockfile\n",
    "        !pnpm build\n",
    "        print(\"新版前端UI构建完成!\") "
   ]
  }
 ],
 "metadata": {
  "language_info": {
   "name": "python"
  }
 },
 "nbformat": 4,
 "nbformat_minor": 2
}
