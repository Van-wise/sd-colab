{
  "cells": [
    {
      "cell_type": "markdown",
      "metadata": {
        "id": "a8PlEe3vylf0"
      },
      "source": [
        "###  <a href='https://ko-fi.com/P5P1QO6VB' target='_blank'><img height='36' style='border:0px;height:36px;' src='https://storage.ko-fi.com/cdn/kofi4.png?v=3' border='0' alt='Buy Me a Coffee at ko-fi.com' /></a>"
      ]
    },
    {
      "cell_type": "markdown",
      "metadata": {
        "id": "nrLhKaMSynXq"
      },
      "source": [
        "<div style=\"display: flex; justify-content: center; align-items: center;\">\n",
        "    <img src=\"https://i.ibb.co/w6ngBsW/20231031152934.jpg\" alt=\"20231031152934\" width=\"300\">\n",
        "    <span style=\"margin: 0 20px;\">|</span>\n",
        "    <img src=\"https://i.ibb.co/SrxYKmz/20231031152928.jpg\" alt=\"20231031152928\" width=\"400\">\n",
        "</div>"
      ]
    },
    {
      "cell_type": "markdown",
      "metadata": {
        "id": "xk7j4Hcdyv8Y"
      },
      "source": [
        "## Fooocus_colab"
      ]
    },
    {
      "cell_type": "markdown",
      "metadata": {
        "id": "j57YCjXoy1wy"
      },
      "source": [
        "---\n",
        "\n",
        "[![Open In Colab](https://colab.research.google.com/assets/colab-badge.svg)](https://colab.research.google.com/github/Van-wise/sd-colab/blob/main/fooocus/fcoooucs.ipynb)\n",
        "[![Visitors](https://api.visitorbadge.io/api/visitors?path=https%3A%2F%2Fcolab.research.google.com%2Fgithub%2FVan-wise%2Fsd-colab%2Fblob%2Fmain%2F%2Ffooocus%2Ffcoooucs.ipynb&labelColor=%232ccce4&countColor=%23555555&style=flat)](https://visitorbadge.io/status?path=https%3A%2F%2Fcolab.research.google.com%2Fgithub%2FVan-wise%2Fsd-colab%2Fblob%2Fmain%2F%2Ffooocus%2Ffcoooucs.ipynb)\n",
        "\n",
        "---\n",
        "\n",
        "\n",
        "<font color=\"red\">**更新地址**：https://github.com/Van-wise/sd-colab\n",
        "\n",
        "**如果遇到报错,请联系up：**\n",
        "[bilibili](https://space.bilibili.com/1308057/channel/collectiondetail?sid=1365244) or [issues](https://github.com/Van-wise/sd-colab/issues)\n",
        "\n"
      ]
    },
    {
      "cell_type": "code",
      "execution_count": null,
      "metadata": {
        "cellView": "form",
        "id": "Dyl_5dDpV86E"
      },
      "outputs": [],
      "source": [
        "# @title (🔆)安装环境\n",
        "import os\n",
        "import time\n",
        "from IPython.utils import capture\n",
        "from IPython.display import clear_output, display, HTML\n",
        "\n",
        "# 忽略警告\n",
        "import warnings\n",
        "os.environ['PYTHONWARNINGS'] = 'ignore'\n",
        "os.environ[\"TF_CPP_MIN_LOG_LEVEL\"] = \"3\"\n",
        "!git config --global advice.detachedHead false\n",
        "!sed -i 's@text = _formatwarnmsg(msg)@text =\\\"\\\"@g' {warnings.__file__}\n",
        "warnings.filterwarnings(\"ignore\")\n",
        "\n",
        "def check_gpu():\n",
        "    import tensorflow as tf\n",
        "    physical_devices = tf.config.list_physical_devices('GPU')\n",
        "    if len(physical_devices) > 0:\n",
        "      print(\"\\033[96m GPU is available.\\033[0m\", flush=True)\n",
        "    else:\n",
        "      print(\"\\033[91m 没有使用GPU,请在代码执行程序-更改运行时类型-设置为GPU!\\033[0m\", flush=True)\n",
        "      display(HTML(\"<img src='https://i.ibb.co/xfb7pB7/check-gpu.png' width='560px'/>\"))\n",
        "      from google.colab import runtime\n",
        "      runtime.unassign()\n",
        "\n",
        "%cd /content\n",
        "#@markdown ###<font color=\"#11659a\"> 选择版本：</font>\n",
        "_version = \"Fooocus\" # @param [\"Fooocus\", \"SimpleSDXL\"]\n",
        "#@markdown #####<font color=\"#2c9678\">☑检查是否使用了GPU；☐不检查。\n",
        "_check_gpu = True  #@param {type:\"boolean\"}\n",
        "\n",
        "if _check_gpu:\n",
        "  check_gpu()\n",
        "start_time = time.time()\n",
        "if _version == \"Fooocus\":\n",
        "  git_url = \"https://github.com/lllyasviel/Fooocus\"\n",
        "elif _version == \"RuinedFooocus\":\n",
        "  git_url = \"https://github.com/runew0lf/RuinedFooocus\"\n",
        "elif _version == \"Fooocus-ControlNet-SDXL\":\n",
        "  git_url = \"https://github.com/fenneishi/Fooocus-ControlNet-SDXL\"\n",
        "elif _version == \"Fooocus-MRE\":\n",
        "  git_url = \"https://github.com/MoonRide303/Fooocus-MRE\"\n",
        "elif _version == \"SimpleSDXL\":\n",
        "  git_url = \"https://github.com/metercai/SimpleSDXL\"\n",
        "\n",
        "!git clone -q --depth 1  {git_url}\n",
        "print('项目克隆成功！')\n",
        "main_dir = f\"/content/{_version}\"\n",
        "print(\"正在安装环境,大约需要两分钟...\")\n",
        "\n",
        "%cd {main_dir}\n",
        "if os.path.exists(\"settings-no-refiner.json\"):\n",
        "  !cp settings-no-refiner.json settings.json\n",
        "\n",
        "with capture.capture_output() as cap:\n",
        "  !apt-get -qq -y update\n",
        "  !apt -y install -qq aria2\n",
        "  !pip install -q pyngrok pycloudflared -U\n",
        "  !pip uninstall -y lida llmx\n",
        "  !pip install kaleido cohere openai tiktoken typing-extensions==4.8.0 tensorflow-probability==0.13.0 dopamine-rl\n",
        "  !pip install -q -r requirements_versions.txt\n",
        "  !aria2c --console-log-level=error -c -x 16 -s 16 -k 1M https://raw.githubusercontent.com/metercai/SimpleSDXL/SimpleSDXL/language/cn.json -d {main_dir}/language -o cn.json\n",
        "  !aria2c --console-log-level=error -c -x 16 -s 16 -k 1M https://huggingface.co/Vanwise/sd-colab/resolve/main/libtcmalloc_minimal.so.4 -d /content -o libtcmalloc_minimal.so.4\n",
        "  !aria2c --console-log-level=error -c -x 16 -s 16 -k 1M https://github.com/Van-wise/sd-colab/raw/main/fooocus/wise.py -d /content -o wise.py\n",
        "%env LD_PRELOAD=/content/libtcmalloc_minimal.so.4\n",
        "end_time = time.time()\n",
        "print(\"环境安装完成，耗时：{:.3f}分钟.\".format((end_time - start_time) / 60))"
      ]
    },
    {
      "cell_type": "markdown",
      "metadata": {
        "id": "kkZLJITB81eH"
      },
      "source": [
        "###  🌐下载模型"
      ]
    },
    {
      "cell_type": "code",
      "execution_count": null,
      "metadata": {
        "cellView": "form",
        "id": "AD4JbDHdfjjF"
      },
      "outputs": [],
      "source": [
        "# @title (🔆)默认模型\n",
        "!aria2c --console-log-level=error -c -x 16 -s 16 -k 1M https://github.com/Van-wise/sd-colab/raw/main/fooocus/wise.py -d /content -o wise.py\n",
        "clear_output()\n",
        "%run /content/wise.py\n",
        "replace_download_models(_version)\n",
        "if _version == \"SimpleSDXL\":\n",
        "  fix_fooocus_expansion(main_dir)\n",
        "  fix_fooocus_ripemd160(main_dir)\n",
        "#@markdown #### 💠ControlNet:\n",
        "cn = False  #@param {type:\"boolean\"}\n",
        "ip = True  #@param {type:\"boolean\"}\n",
        "face = True  #@param {type:\"boolean\"}\n",
        "\n",
        "#@markdown ####  💠预设模型:\n",
        "default_models = \"juggernautXL\" # @param [\"juggernautXL\", \"realistic\", \"anime\", \"\"]\n",
        "#@markdown ##### (可选)主模型下载链接:\n",
        "ckpt_link = \"\" # @param {type:\"string\"}\n",
        "#@markdown ##### (可选)LOARS模型下载链接:\n",
        "loars_link = \"\" # @param {type:\"string\"}\n",
        "#@markdown ##### (可选)eMB模型下载链接:\n",
        "emb_link = \"\" # @param {type:\"string\"}\n",
        "#@markdown ####  💠重绘模型版本:\n",
        "_inpaint = \"v2.6\" # @param [\"v1\", \"v2.5\", \"v2.6\"]\n",
        "presets = \"\"\n",
        "\n",
        "if default_models == \"realistic\":\n",
        "    add_realistic(main_dir)\n",
        "    presets = \"--preset realistic\"\n",
        "elif default_models == \"anime\":\n",
        "    add_anime(main_dir)\n",
        "    presets = \"--preset anime\"\n",
        "elif default_models == \"sai\":\n",
        "    add_sai(main_dir)\n",
        "    presets = \"--preset sai\"\n",
        "else:\n",
        "    add_juggernautxl(main_dir)\n",
        "    presets = \"\"\n",
        "\n",
        "add_controlnet(main_dir,cn,ip,face)\n",
        "add_other(main_dir)\n",
        "add_vaeapp(main_dir)\n",
        "add_custom_ckpt(main_dir,ckpt_link)\n",
        "add_custom_loras(main_dir,loars_link)\n",
        "add_custom_embeddings(main_dir,emb_link)\n",
        "add_inpaint(main_dir,_inpaint)\n",
        "start_download_models(models)"
      ]
    },
    {
      "cell_type": "code",
      "execution_count": null,
      "metadata": {
        "cellView": "form",
        "id": "enXLqZfV1uzc"
      },
      "outputs": [],
      "source": [
        "# @title (🔆)MOD！\n",
        "# @markdown #### 💠用于下载主模型、Lora、Vae、Embedding.\n",
        "import pandas as pd\n",
        "import requests\n",
        "from io import BytesIO\n",
        "from google.colab import files, drive\n",
        "from concurrent import futures\n",
        "\n",
        "# @markdown #### 启用MOD:\n",
        "enable_mod = True #@param {type:\"boolean\"}\n",
        "# @markdown #### 模型下载位置:\n",
        "modown_dir = \"colab\" # @param [\"colab\", \"drive\"]\n",
        "if modown_dir == \"drive\":\n",
        "  modelr_dir = \"/content/drive/MyDrive/sd_models\"\n",
        "else:\n",
        "  modelr_dir = f\"{main_dir}/models/\"\n",
        "# @markdown ---\n",
        "# @markdown ##### [MOD链接](https://docs.google.com/spreadsheets/d/1o-13mwJiydTprn9OQHia2bWCirCwyLDvt2-OoWT5Trg/edit#gid=149213849):\n",
        "mod_link = \"https://docs.google.com/spreadsheets/d/e/2PACX-1vR_4_XVd-OxQQlCLQo99dnRCi2bBJtjg8Et_gQfgd_-g6j9ltuBAbiwPC6qSJy6_KNi-G_bPZdqrv-y/pub?output=xlsx\"# @param {type:\"string\"}\n",
        "# @markdown ##### MOD路径:\n",
        "mod_path = \"/content/drive/MyDrive/wise.xlsx\"# @param {type:\"string\"}\n",
        "# @markdown ##### 代码逻辑:优先使用MOD链接,链接为空使用MOD路径,路径为空使用上传MOD。\n",
        "\n",
        "if enable_mod:\n",
        "  !apt-get -qq install -y aria2\n",
        "  start_mod(mod_link,mod_path,modelr_dir)"
      ]
    },
    {
      "cell_type": "markdown",
      "metadata": {
        "id": "3XTy5khWVuSW"
      },
      "source": [
        "### (⚒)附加功能："
      ]
    },
    {
      "cell_type": "code",
      "execution_count": null,
      "metadata": {
        "cellView": "form",
        "id": "jHPh0jfgYu6h"
      },
      "outputs": [],
      "source": [
        "# @markdown #### 🌐使用云盘模型:\n",
        "use_drivemodels = False # @param {type:\"boolean\"}\n",
        "gmodelr_dir = \"/content/drive/MyDrive/sd_models\" # @param [\"/content/drive/MyDrive/sd_models\"] {allow-input: true}\n",
        "# @markdown #### 📁打包输出图片:\n",
        "use_zipoutputs = True # @param {type:\"boolean\"}\n",
        "#@markdown #####保存间隔（秒）：\n",
        "save_interval = 200 #@param {type:\"integer\"}\n",
        "#@markdown #####压缩保存目录：\n",
        "zip_path = \"/content/outputs\" # @param [\"/content/outputs\", \"/content/drive/sd_outputs\"] {allow-input: true}\n",
        "\n",
        "import os\n",
        "def content_models():\n",
        "  if not os.path.exists('/content/drive'):\n",
        "    from google.colab import drive\n",
        "    drive.mount('/content/drive')\n",
        "    print('Google Drive 挂载成功！')\n",
        "\n",
        "  for modelver in [\"controlnet\", \"loras\", \"checkpoints\"]:\n",
        "      sub_dir_path = f\"{gmodelr_dir}/{modelver}\"\n",
        "      os.makedirs(sub_dir_path, exist_ok=True)\n",
        "\n",
        "      if len(os.listdir(sub_dir_path)) == 0:\n",
        "          continue\n",
        "      os.system(f\"ln -sf {sub_dir_path}/* {main_dir}/models/{modelver}\")\n",
        "\n",
        "import shutil\n",
        "import time\n",
        "from datetime import datetime\n",
        "\n",
        "def zip_outputs(outputs_path, zip_path, save_interval):\n",
        "  save_count = 0\n",
        "  last_backup_path = None\n",
        "\n",
        "  while True:\n",
        "    time.sleep(save_interval)\n",
        "\n",
        "    save_count += 1\n",
        "    backup_name = f\"{datetime.now().strftime('%m_%d')}_outputs_{datetime.now().strftime('%H:%M')}_{save_count}\"\n",
        "    backup_path = f\"{zip_path}/{backup_name}\"\n",
        "\n",
        "    if last_backup_path:\n",
        "      os.remove(last_backup_path)\n",
        "\n",
        "    try:\n",
        "      shutil.make_archive(backup_path, 'zip', root_dir=outputs_path)\n",
        "      print(f'输出图片备份成功: {backup_path}.zip')\n",
        "      last_backup_path = f\"{backup_path}.zip\"\n",
        "    except Exception as e:\n",
        "      print(f\"创建备份时出现错误：{e}\")\n",
        "\n",
        "import multiprocessing\n",
        "def start_background_task(target_func, *args):\n",
        "  p = multiprocessing.Process(target=target_func, args=args)\n",
        "  p.start()\n",
        "  return p\n",
        "\n",
        "def stop_background_task(process):\n",
        "  process.terminate()\n",
        "\n",
        "if use_drivemodels:\n",
        "  content_models()"
      ]
    },
    {
      "cell_type": "markdown",
      "metadata": {
        "id": "QX0hgcqS9JZM"
      },
      "source": [
        "### 🎨启动"
      ]
    },
    {
      "cell_type": "code",
      "execution_count": null,
      "metadata": {
        "cellView": "form",
        "colab": {
          "base_uri": "https://localhost:8080/"
        },
        "id": "Y9BJQwTk8Olw",
        "outputId": "7f43e493-8701-4d0d-8246-2422094a8c27"
      },
      "outputs": [],
      "source": [
        "# @title 内网穿透\n",
        "import os\n",
        "import shlex\n",
        "import subprocess\n",
        "from pathlib import Path\n",
        "from typing import Union\n",
        "# @markdown #### [Ngrok](https://dashboard.ngrok.com/get-started/your-authtoken):\n",
        "use_ngrok = False # @param {type:\"boolean\"}\n",
        "ngrok_token = \"\" # @param {type:\"string\"}\n",
        "# @markdown #### cloudflare:\n",
        "use_cloudflare = True # @param {type:\"boolean\"}\n",
        "# @markdown #### remote:\n",
        "use_remote = True # @param {type:\"boolean\"}\n",
        "\n",
        "def gen_key(path: Union[str, Path]) -> None:\n",
        "    path = Path(path)\n",
        "    arg_string = f'ssh-keygen -t rsa -b 4096 -N \"\" -q -f {path.as_posix()}'\n",
        "    args = shlex.split(arg_string)\n",
        "    subprocess.run(args, check=True)\n",
        "    path.chmod(0o600)\n",
        "\n",
        "if use_remote:\n",
        "  id_rsa_file = \"/content/id_rsa\"\n",
        "  id_rsa_pub_file = \"/content/id_rsa/id_rsa.pub\"\n",
        "  if os.path.exists(id_rsa_file):\n",
        "      os.remove(id_rsa_file)\n",
        "  if os.path.exists(id_rsa_pub_file):\n",
        "      os.remove(id_rsa_pub_file)\n",
        "  ssh_name = \"id_rsa\"\n",
        "  ssh_path = Path(os.path.dirname(os.getcwd())) / ssh_name\n",
        "  gen_key(ssh_path)\n",
        "\n",
        "if use_ngrok:\n",
        "  from pyngrok import ngrok\n",
        "  ngrok.set_auth_token(ngrok_token)\n",
        "\n",
        "def start_tunnle():\n",
        "  time.sleep(5)\n",
        "  # open(\"/content/output.log\", \"w\").close()\n",
        "  # # 循环检测文件内容，直到存在\"http://127.0.0.1:9090\"。\n",
        "  # while not \"http://127.0.0.1:7865\" in open(\"/content/output.log\", \"r\").read():\n",
        "  #   time.sleep(1)\n",
        "\n",
        "  clear_output()\n",
        "  from IPython.display import display, HTML\n",
        "  audio_url = \"https://github.com/Van-wise/sd-colab/raw/main/qidong.mp3\"\n",
        "  display(HTML(f'<audio src=\"{audio_url}\" controls autoplay style=\"display:none\"></audio>'))\n",
        "\n",
        "  if use_ngrok:\n",
        "      try:\n",
        "          from pyngrok import ngrok\n",
        "          ngrok_tunnel = ngrok.connect(7865, \"http\")\n",
        "          print(\"ngrok_tunnel:\", ngrok_tunnel)\n",
        "      except Exception as e:\n",
        "          print(\"ngrok 连接失败：\", e)\n",
        "\n",
        "  if use_cloudflare:\n",
        "      try:\n",
        "          from pycloudflared import try_cloudflare\n",
        "          cloudflare_url = try_cloudflare(7865, verbose=False)\n",
        "          print(\"cloudflare_tunnel:\", cloudflare_url)\n",
        "      except Exception as e:\n",
        "          print(\"cloudflare 连接失败：\", e)\n",
        "\n",
        "  if use_remote:\n",
        "      !ssh -R 80:127.0.0.1:7865 -o StrictHostKeyChecking=no -i /content/id_rsa remote.moe 2>&1 | tee -a /content/tunnel.log"
      ]
    },
    {
      "cell_type": "code",
      "execution_count": null,
      "metadata": {
        "cellView": "form",
        "id": "sskIGdjoaWF_"
      },
      "outputs": [],
      "source": [
        "# @title 启动\n",
        "import threading\n",
        "thread = threading.Thread(target=start_tunnle, daemon=True)\n",
        "thread.start()\n",
        "\n",
        "if 'use_zipoutputs' in globals():\n",
        "    if use_zipoutputs:\n",
        "        outputs_path = f\"/content/{_version}/outputs\"\n",
        "        back_zip = start_background_task(zip_outputs, outputs_path, zip_path, save_interval)\n",
        "else:\n",
        "    pass\n",
        "\n",
        "#!python entry_with_update.py --language zh --port 7685\n",
        "!python launch.py --language cn --port 7865 $presets"
      ]
    },
    {
      "cell_type": "markdown",
      "metadata": {},
      "source": [
        "### 保存输出图片到云盘"
      ]
    },
    {
      "cell_type": "code",
      "execution_count": null,
      "metadata": {},
      "outputs": [],
      "source": [
        "需要保存的文件 = \"/content/outputs\" # @param {type:\"string\"}\n",
        "保存到哪里 = \"/content/drive/MyDrive/sd_temp\" # @param {type:\"string\"}\n",
        "\n",
        "if not os.path.exists('/content/drive'):\n",
        "  from google.colab import drive\n",
        "  drive.mount('/content/drive')\n",
        "  print('Google Drive 挂载成功！')\n",
        "\n",
        "!cp -r {需要保存的文件} {保存到哪里}\n"
      ]
    },
    {
      "cell_type": "markdown",
      "metadata": {
        "id": "eocexA6zs83I"
      },
      "source": [
        "### 关闭进程"
      ]
    },
    {
      "cell_type": "code",
      "execution_count": null,
      "metadata": {
        "id": "jtKvGymh6b-w"
      },
      "outputs": [],
      "source": [
        "!pkill -f pyngrok\n",
        "!pkill -f cloudflared\n",
        "!pkill -f fooocus\n",
        "stop_background_task(back_zip)\n",
        "print(\"进程已关闭!\")"
      ]
    }
  ],
  "metadata": {
    "accelerator": "GPU",
    "colab": {
      "collapsed_sections": [
        "a8PlEe3vylf0",
        "eocexA6zs83I"
      ],
      "provenance": []
    },
    "kernelspec": {
      "display_name": "Python 3",
      "name": "python3"
    },
    "language_info": {
      "name": "python"
    }
  },
  "nbformat": 4,
  "nbformat_minor": 0
}
